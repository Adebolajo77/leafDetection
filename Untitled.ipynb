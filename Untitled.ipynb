{
 "cells": [
  {
   "cell_type": "code",
   "execution_count": 9,
   "id": "71e4b240",
   "metadata": {},
   "outputs": [],
   "source": [
    "# Imports\n",
    "import torch\n",
    "import torchvision # torch package for vision related things\n",
    "import torch.nn.functional as F  # Parameterless functions, like (some) activation functions\n",
    "import torchvision.transforms as transforms  # Transformations we can perform on our dataset for augmentation\n",
    "from torch import nn  # All neural network modules\n",
    "\n",
    "import matplotlib.pyplot as plt\n",
    "import time\n",
    "import os\n",
    "import copy\n",
    "plt.ion()   # interactive mode\n",
    "\n",
    "from PIL import Image\n"
   ]
  },
  {
   "cell_type": "code",
   "execution_count": 2,
   "id": "ae2402c4",
   "metadata": {},
   "outputs": [],
   "source": [
    "# Simple CNN\n",
    "class CNN(nn.Module):\n",
    "    def __init__(self, in_channels=3, num_classes=12):\n",
    "        super(CNN, self).__init__()\n",
    "\n",
    "        \n",
    "\n",
    "        self.conv1 = nn.Conv2d(in_channels=in_channels,out_channels=32,kernel_size=(3, 3), stride=(1, 1))\n",
    "        self.conv2 = nn.Conv2d(in_channels=32,out_channels=64,kernel_size=(3, 3),stride=(1, 1))\n",
    "        self.conv3 = nn.Conv2d(in_channels=64,out_channels=128,kernel_size=(3, 3),stride=(1, 1))\n",
    "        self.pool = nn.MaxPool2d(kernel_size=(2, 2), stride=(2, 2))\n",
    "        self.drp = nn.Dropout(p=0.2)\n",
    "        self.drp2 = nn.Dropout(p=0.4)\n",
    "\n",
    "\n",
    "        self.fc1 = nn.Linear(4608,64)  #8192\n",
    "        \n",
    "        self.fc2 = nn.Linear(64, 128)\n",
    "        self.fc3 = nn.Linear(128, 64)\n",
    "        self.fc4 = nn.Linear(64, num_classes)\n",
    "\n",
    "        self.relu = nn.ReLU()\n",
    "\n",
    "\n",
    "        \n",
    "\n",
    "    def forward(self, x):\n",
    "\n",
    "        x = F.relu(self.conv1(x)) #cov1\n",
    "        x = self.pool(x)          #maxpool\n",
    "        x = self.drp(x)           #droipOut\n",
    "\n",
    "        x = F.relu(self.conv2(x)) #cov1\n",
    "        x = self.pool(x)          #maxpool\n",
    "        x = self.drp(x)           #droipOut\n",
    "\n",
    "        x = F.relu(self.conv3(x)) #cov1\n",
    "        x = self.pool(x)          #maxpool\n",
    "        x = self.drp2(x)          #droipOut\n",
    "        \n",
    "        x = torch.flatten(x, 1)   #\n",
    "\n",
    "        x = x.view(-1,6*6*128)\n",
    "\n",
    "        x = F.relu(self.fc1(x))   #\n",
    "\n",
    "        x = F.relu(self.fc2(x))\n",
    "\n",
    "        x = F.relu(self.fc3(x))\n",
    "\n",
    "        x = self.fc4(x)\n",
    "        return x\n",
    "\n",
    "\n",
    "\n",
    "\n"
   ]
  },
  {
   "cell_type": "code",
   "execution_count": 3,
   "id": "fbd1fab9",
   "metadata": {},
   "outputs": [],
   "source": [
    "device = torch.device(\"cuda\" if torch.cuda.is_available() else \"cpu\")"
   ]
  },
  {
   "cell_type": "code",
   "execution_count": 5,
   "id": "403bc9df",
   "metadata": {},
   "outputs": [
    {
     "data": {
      "text/plain": [
       "CNN(\n",
       "  (conv1): Conv2d(3, 32, kernel_size=(3, 3), stride=(1, 1))\n",
       "  (conv2): Conv2d(32, 64, kernel_size=(3, 3), stride=(1, 1))\n",
       "  (conv3): Conv2d(64, 128, kernel_size=(3, 3), stride=(1, 1))\n",
       "  (pool): MaxPool2d(kernel_size=(2, 2), stride=(2, 2), padding=0, dilation=1, ceil_mode=False)\n",
       "  (drp): Dropout(p=0.2, inplace=False)\n",
       "  (drp2): Dropout(p=0.4, inplace=False)\n",
       "  (fc1): Linear(in_features=4608, out_features=64, bias=True)\n",
       "  (fc2): Linear(in_features=64, out_features=128, bias=True)\n",
       "  (fc3): Linear(in_features=128, out_features=64, bias=True)\n",
       "  (fc4): Linear(in_features=64, out_features=12, bias=True)\n",
       "  (relu): ReLU()\n",
       ")"
      ]
     },
     "execution_count": 5,
     "metadata": {},
     "output_type": "execute_result"
    }
   ],
   "source": [
    "in_channels = 3\n",
    "num_classes = 12\n",
    "\n",
    "#load the trained model\n",
    "PATH = \"/home/adebolajo/PycharmProjects/NemoV2/model_amaNet.pt\"\n",
    "model = CNN(in_channels=in_channels, num_classes=num_classes).to(device)\n",
    "model.load_state_dict(torch.load(PATH))\n",
    "model.eval()"
   ]
  },
  {
   "cell_type": "code",
   "execution_count": 6,
   "id": "e901f913",
   "metadata": {},
   "outputs": [],
   "source": [
    "transform = transforms.Compose(\n",
    "    [transforms.Resize(64), transforms.CenterCrop(64), transforms.ToTensor()]\n",
    ")\n",
    "\n",
    "CATEGORIES=[\n",
    "    \"Pepper__bell___Bacterial_spot\",\n",
    "    \"Pepper__bell___healthy\",\n",
    "    \"Tomato___Bacterial_spot\",\n",
    "    \"Tomato___Early_blight\",\n",
    "    \"Tomato___healthy\",\n",
    "    \"Tomato___Late_blight\",\n",
    "    \"Tomato___Leaf_Mold\",\n",
    "    \"Tomato___Septoria_leaf_spot\",\n",
    "    \"Tomato___Spider_mites Two-spotted_spider_mite\",\n",
    "    \"Tomato___Target_spot\",\n",
    "    \"Tomato___Tomato_mosaic_virus\",\n",
    "    \"Tomato___Tomato_Yellow_Leaf_Curl_Virus\"\n",
    "]"
   ]
  },
  {
   "cell_type": "code",
   "execution_count": 7,
   "id": "3fccc978",
   "metadata": {},
   "outputs": [],
   "source": [
    "#preprocessing\n",
    "\n",
    "#image path\n",
    "image_path = \"/home/adebolajo/PycharmProjects/NemoV2/datasets/test/Tomato___Early_blight/16ae1b64-2954-4135-bea5-d599ba56740c___RS_Erly.B 7649.JPG\"\n",
    "\n",
    "#load image\n",
    "image = Image.open(image_path)\n",
    "\n",
    "# Convert the image to PyTorch tensor\n",
    "input_tensor = transform(image)"
   ]
  },
  {
   "cell_type": "code",
   "execution_count": 10,
   "id": "71148575",
   "metadata": {},
   "outputs": [
    {
     "name": "stdout",
     "output_type": "stream",
     "text": [
      "Tomato___Early_blight\n"
     ]
    }
   ],
   "source": [
    "#infrence\n",
    "x = input_tensor\n",
    "with torch.no_grad():\n",
    "    x = x.to(device=device)\n",
    "    scores = model(x)\n",
    "    _, prediction = scores.max(1)\n",
    "    print( CATEGORIES[prediction[0]] )\n"
   ]
  },
  {
   "cell_type": "code",
   "execution_count": null,
   "id": "c82eb659",
   "metadata": {},
   "outputs": [],
   "source": []
  }
 ],
 "metadata": {
  "kernelspec": {
   "display_name": "Python 3 (ipykernel)",
   "language": "python",
   "name": "python3"
  },
  "language_info": {
   "codemirror_mode": {
    "name": "ipython",
    "version": 3
   },
   "file_extension": ".py",
   "mimetype": "text/x-python",
   "name": "python",
   "nbconvert_exporter": "python",
   "pygments_lexer": "ipython3",
   "version": "3.8.10"
  }
 },
 "nbformat": 4,
 "nbformat_minor": 5
}
